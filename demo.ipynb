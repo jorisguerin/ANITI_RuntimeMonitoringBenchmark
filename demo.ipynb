{
 "cells": [
  {
   "cell_type": "code",
   "execution_count": 8,
   "id": "66365728",
   "metadata": {},
   "outputs": [],
   "source": [
    "from dataset import Dataset\n",
    "from feature_extractor import FeatureExtractor\n",
    "from monitors import MahalanobisMonitor, GaussianMixtureMonitor, OutsideTheBoxMonitor, MaxSoftmaxProbabilityMonitor,\\\n",
    "                    MaxLogitMonitor, EnergyMonitor, ReActMonitor\n",
    "from evaluation import Evaluator\n",
    "\n",
    "from sklearn.metrics import f1_score, precision_score, recall_score, accuracy_score\n",
    "\n",
    "import numpy as np\n",
    "import matplotlib.pyplot as plt"
   ]
  },
  {
   "cell_type": "code",
   "execution_count": 10,
   "id": "ec2f6e88",
   "metadata": {},
   "outputs": [],
   "source": [
    "batch_size = 10\n",
    "\n",
    "model = \"resnet\"\n",
    "# model = \"densenet\"\n",
    "\n",
    "layers_ids = [2, 5, 8, 12, 15, 19, 22, 26, 29, 32]\n",
    "# layers_ids = [9, 19, 29, 40, 50, 60, 69, 79, 89, 98]\n",
    "\n",
    "id_dataset = \"svhn\"\n",
    "\n",
    "ood_dataset = \"svhn\"\n",
    "\n",
    "additional_transform = None#\"pixelization\"\n",
    "adversarial_attack = \"fgsm\""
   ]
  },
  {
   "cell_type": "code",
   "execution_count": 11,
   "id": "a85c76a2",
   "metadata": {},
   "outputs": [
    {
     "name": "stdout",
     "output_type": "stream",
     "text": [
      "Using downloaded and verified file: ./Data/train_32x32.mat\n",
      "Using downloaded and verified file: ./Data/test_32x32.mat\n",
      "Using downloaded and verified file: ./Data/test_32x32.mat\n"
     ]
    }
   ],
   "source": [
    "dataset_train = Dataset(id_dataset, \"train\", model, batch_size=batch_size)\n",
    "dataset_test = Dataset(id_dataset, \"test\", model, batch_size=batch_size)\n",
    "dataset_ood = Dataset(ood_dataset, \"test\", model, additional_transform, adversarial_attack, batch_size=batch_size)"
   ]
  },
  {
   "cell_type": "code",
   "execution_count": 12,
   "id": "6f3ae994",
   "metadata": {},
   "outputs": [],
   "source": [
    "feature_extractor = FeatureExtractor(model, id_dataset, layers_ids)"
   ]
  },
  {
   "cell_type": "code",
   "execution_count": 13,
   "id": "a8344734",
   "metadata": {},
   "outputs": [
    {
     "name": "stdout",
     "output_type": "stream",
     "text": [
      "Extracting layers: 'layer1.0.relu_1', 'layer1.2.relu', 'layer2.0.relu_1', 'layer2.2.relu_1', 'layer3.0.relu', 'layer3.2.relu', 'layer3.3.relu_1', 'layer3.5.relu_1', 'layer4.1.relu', 'layer4.2.relu_1'\n"
     ]
    },
    {
     "name": "stderr",
     "output_type": "stream",
     "text": [
      "100%|███████████████████████████████████████████████████████████████████| 2604/2604 [01:09<00:00, 37.36it/s]\n"
     ]
    }
   ],
   "source": [
    "features_train, logits_train, softmax_train, pred_train, lab_train = feature_extractor.get_features(dataset_train)\n",
    "features_test, logits_test, softmax_test, pred_test, lab_test = feature_extractor.get_features(dataset_test)\n",
    "features_ood, logits_ood, softmax_ood, pred_ood, lab_ood = feature_extractor.get_features(dataset_ood)"
   ]
  },
  {
   "cell_type": "code",
   "execution_count": null,
   "id": "250c1620",
   "metadata": {},
   "outputs": [],
   "source": []
  },
  {
   "cell_type": "code",
   "execution_count": 14,
   "id": "c2f1c0ac",
   "metadata": {},
   "outputs": [
    {
     "name": "stdout",
     "output_type": "stream",
     "text": [
      "Accuracy\n",
      "ID:   0.9668484941610326\n",
      "OOD:  0.6509680393362016\n"
     ]
    }
   ],
   "source": [
    "id_accuracy = accuracy_score(lab_test, pred_test)\n",
    "ood_accuracy = 0\n",
    "if id_dataset == ood_dataset:\n",
    "    ood_accuracy = accuracy_score(lab_ood, pred_ood)\n",
    "\n",
    "print(\"Accuracy\")\n",
    "print(\"ID:  \", id_accuracy)\n",
    "print(\"OOD: \", ood_accuracy)"
   ]
  },
  {
   "cell_type": "code",
   "execution_count": 15,
   "id": "e465cc08",
   "metadata": {},
   "outputs": [
    {
     "name": "stdout",
     "output_type": "stream",
     "text": [
      "OMS results for perfect OOD detector\n",
      "Precision   Recall   F1\n",
      "0.3490      0.9133   0.5050\n"
     ]
    }
   ],
   "source": [
    "eval_oms = Evaluator(\"oms\", is_novelty=(id_dataset!=ood_dataset))\n",
    "eval_ood = Evaluator(\"ood\", is_novelty=(id_dataset!=ood_dataset))\n",
    "\n",
    "eval_oms.fit_ground_truth(lab_test, lab_ood, pred_test, pred_ood)\n",
    "eval_ood.fit_ground_truth(lab_test, lab_ood, pred_test, pred_ood)\n",
    "\n",
    "precision_star, recall_star, f1_star = eval_oms.get_metrics(eval_ood.y_true[:lab_test.shape[0]].astype(bool), \n",
    "                                             eval_ood.y_true[lab_test.shape[0]:].astype(bool))\n",
    "\n",
    "print(\"OMS results for perfect OOD detector\")\n",
    "print(\"Precision \", \" Recall \", \" F1\")\n",
    "print(\"{:.4f}\".format(precision_star), \"    \", \"{:.4f}\".format(recall_star), \" \", \"{:.4f}\".format(f1_star))"
   ]
  },
  {
   "cell_type": "code",
   "execution_count": null,
   "id": "ce29e79b",
   "metadata": {},
   "outputs": [],
   "source": []
  },
  {
   "cell_type": "code",
   "execution_count": 16,
   "id": "1fbbd6ca",
   "metadata": {},
   "outputs": [],
   "source": [
    "id_layer_monitored = 3"
   ]
  },
  {
   "cell_type": "code",
   "execution_count": null,
   "id": "0d870180",
   "metadata": {},
   "outputs": [],
   "source": []
  },
  {
   "cell_type": "code",
   "execution_count": 18,
   "id": "d6c15500",
   "metadata": {},
   "outputs": [
    {
     "name": "stdout",
     "output_type": "stream",
     "text": [
      "Mahalanobis\n",
      "        Precision   Recall   F1\n",
      "OOD:    0.5623      0.8946   0.6905\n",
      "OMS:    0.7498      0.6119   0.6739\n"
     ]
    }
   ],
   "source": [
    "monitor_mahalanobis = MahalanobisMonitor(id_dataset, model, id_layer_monitored, is_tied=True)\n",
    "monitor_mahalanobis.fit(features_train[id_layer_monitored], lab_train)\n",
    "\n",
    "scores_test_mahalanobis = monitor_mahalanobis.predict(features_test[id_layer_monitored], pred_test) \n",
    "scores_ood_mahalanobis = monitor_mahalanobis.predict(features_ood[id_layer_monitored], pred_ood) \n",
    "\n",
    "precision_ood_maha, recall_ood_maha, f1_ood_maha = eval_ood.get_metrics(scores_test_mahalanobis, \n",
    "                                                                        scores_ood_mahalanobis)\n",
    "precision_oms_maha, recall_oms_maha, f1_oms_maha = eval_oms.get_metrics(scores_test_mahalanobis, \n",
    "                                                                        scores_ood_mahalanobis)\n",
    "\n",
    "print(\"Mahalanobis\")\n",
    "print(\"       \", \"Precision \", \" Recall \", \" F1\")\n",
    "print(\"OOD:   \", \"{:.4f}\".format(precision_ood_maha), \"    \", \"{:.4f}\".format(recall_ood_maha), \n",
    "      \" \", \"{:.4f}\".format(f1_ood_maha))\n",
    "print(\"OMS:   \", \"{:.4f}\".format(precision_oms_maha), \"    \", \"{:.4f}\".format(recall_oms_maha), \n",
    "      \" \", \"{:.4f}\".format(f1_oms_maha))"
   ]
  },
  {
   "cell_type": "code",
   "execution_count": null,
   "id": "0ece5400",
   "metadata": {},
   "outputs": [],
   "source": []
  },
  {
   "cell_type": "code",
   "execution_count": 19,
   "id": "bacee73b",
   "metadata": {},
   "outputs": [
    {
     "name": "stdout",
     "output_type": "stream",
     "text": [
      "Outside the box\n",
      "        Precision   Recall   F1\n",
      "OOD:    0.7860      0.5971   0.6787\n",
      "OMS:    0.4255      0.8458   0.5662\n"
     ]
    }
   ],
   "source": [
    "monitor_oob = OutsideTheBoxMonitor(n_clusters=10)\n",
    "monitor_oob.fit(features_train[id_layer_monitored], lab_train)\n",
    "\n",
    "scores_oob_test = monitor_oob.predict(features_test[id_layer_monitored], pred_test)\n",
    "scores_oob_ood = monitor_oob.predict(features_ood[id_layer_monitored], pred_ood)\n",
    "\n",
    "precision_ood_oob, recall_ood_oob, f1_ood_oob = eval_ood.get_metrics(scores_oob_test, scores_oob_ood)\n",
    "precision_oms_oob, recall_oms_oob, f1_oms_oob = eval_oms.get_metrics(scores_oob_test, scores_oob_ood)\n",
    "\n",
    "print(\"Outside the box\")\n",
    "print(\"       \", \"Precision \", \" Recall \", \" F1\")\n",
    "print(\"OOD:   \", \"{:.4f}\".format(precision_ood_oob), \"    \", \"{:.4f}\".format(recall_ood_oob), \n",
    "      \" \", \"{:.4f}\".format(f1_ood_oob))\n",
    "print(\"OMS:   \", \"{:.4f}\".format(precision_oms_oob), \"    \", \"{:.4f}\".format(recall_oms_oob), \n",
    "      \" \", \"{:.4f}\".format(f1_oms_oob))"
   ]
  },
  {
   "cell_type": "code",
   "execution_count": null,
   "id": "5a4e661a",
   "metadata": {},
   "outputs": [],
   "source": []
  },
  {
   "cell_type": "code",
   "execution_count": 20,
   "id": "53a713a7",
   "metadata": {},
   "outputs": [
    {
     "name": "stdout",
     "output_type": "stream",
     "text": [
      "Max Softmax Probability\n",
      "        Precision   Recall   F1\n",
      "OOD:    0.6183      0.7650   0.6839\n",
      "OMS:    0.6867      0.8345   0.7534\n"
     ]
    }
   ],
   "source": [
    "monitor_msp = MaxSoftmaxProbabilityMonitor()\n",
    "monitor_msp.fit()\n",
    "\n",
    "scores_test_msp = monitor_msp.predict(softmax_test) \n",
    "scores_ood_msp = monitor_msp.predict(softmax_ood) \n",
    "\n",
    "precision_ood_msp, recall_ood_msp, f1_ood_msp = eval_ood.get_metrics(scores_test_msp, scores_ood_msp,)\n",
    "precision_oms_msp, recall_oms_msp, f1_oms_msp = eval_oms.get_metrics(scores_test_msp, scores_ood_msp,)\n",
    "\n",
    "print(\"Max Softmax Probability\")\n",
    "print(\"       \", \"Precision \", \" Recall \", \" F1\")\n",
    "print(\"OOD:   \", \"{:.4f}\".format(precision_ood_msp), \"    \", \"{:.4f}\".format(recall_ood_msp), \n",
    "      \" \", \"{:.4f}\".format(f1_ood_msp))\n",
    "print(\"OMS:   \", \"{:.4f}\".format(precision_oms_msp), \"    \", \"{:.4f}\".format(recall_oms_msp), \n",
    "      \" \", \"{:.4f}\".format(f1_oms_msp))"
   ]
  },
  {
   "cell_type": "code",
   "execution_count": null,
   "id": "3751c099",
   "metadata": {},
   "outputs": [],
   "source": []
  },
  {
   "cell_type": "code",
   "execution_count": 21,
   "id": "b3cad489",
   "metadata": {},
   "outputs": [
    {
     "name": "stdout",
     "output_type": "stream",
     "text": [
      "ReAct MSP\n",
      "        Precision   Recall   F1\n",
      "OOD:    0.6015      0.7833   0.6804\n",
      "OMS:    0.6878      0.8390   0.7559\n"
     ]
    }
   ],
   "source": [
    "monitor_react = ReActMonitor(quantile_value=0.99, mode=\"msp\")\n",
    "monitor_react.fit(feature_extractor, features_train[-1])\n",
    "\n",
    "scores_test_react = monitor_react.predict(features_test[-1])\n",
    "scores_ood_react = monitor_react.predict(features_ood[-1])\n",
    "\n",
    "precision_ood_react_msp, recall_ood_react_msp, f1_ood_react_msp = eval_ood.get_metrics(scores_test_react, \n",
    "                                                                                       scores_ood_react)\n",
    "precision_oms_react_msp, recall_oms_react_msp, f1_oms_react_msp = eval_oms.get_metrics(scores_test_react, \n",
    "                                                                                       scores_ood_react)\n",
    "\n",
    "print(\"ReAct MSP\")\n",
    "print(\"       \", \"Precision \", \" Recall \", \" F1\")\n",
    "print(\"OOD:   \", \"{:.4f}\".format(precision_ood_react_msp), \"    \", \"{:.4f}\".format(recall_ood_react_msp), \n",
    "      \" \", \"{:.4f}\".format(f1_ood_react_msp))\n",
    "print(\"OMS:   \", \"{:.4f}\".format(precision_oms_react_msp), \"    \", \"{:.4f}\".format(recall_oms_react_msp), \n",
    "      \" \", \"{:.4f}\".format(f1_oms_react_msp))"
   ]
  },
  {
   "cell_type": "code",
   "execution_count": null,
   "id": "db35a8f3",
   "metadata": {},
   "outputs": [],
   "source": []
  },
  {
   "cell_type": "code",
   "execution_count": 22,
   "id": "43832d73",
   "metadata": {},
   "outputs": [
    {
     "name": "stdout",
     "output_type": "stream",
     "text": [
      "Max Logit\n",
      "        Precision   Recall   F1\n",
      "OOD:    0.6220      0.7450   0.6780\n",
      "OMS:    0.6982      0.8156   0.7523\n"
     ]
    }
   ],
   "source": [
    "monitor_maxlogits = MaxLogitMonitor()\n",
    "monitor_maxlogits.fit()\n",
    "\n",
    "scores_test_maxlogits = monitor_maxlogits.predict(logits_test) \n",
    "scores_ood_maxlogits = monitor_maxlogits.predict(logits_ood) \n",
    "\n",
    "precision_ood, recall_ood, f1_ood = eval_ood.get_metrics(scores_test_maxlogits, scores_ood_maxlogits)\n",
    "precision_oms, recall_oms, f1_oms = eval_oms.get_metrics(scores_test_maxlogits, scores_ood_maxlogits)\n",
    "\n",
    "print(\"Max Logit\")\n",
    "print(\"       \", \"Precision \", \" Recall \", \" F1\")\n",
    "print(\"OOD:   \", \"{:.4f}\".format(precision_ood), \"    \", \"{:.4f}\".format(recall_ood), \" \", \"{:.4f}\".format(f1_ood))\n",
    "print(\"OMS:   \", \"{:.4f}\".format(precision_oms), \"    \", \"{:.4f}\".format(recall_oms), \" \", \"{:.4f}\".format(f1_oms))"
   ]
  },
  {
   "cell_type": "code",
   "execution_count": null,
   "id": "b1af7e75",
   "metadata": {},
   "outputs": [],
   "source": []
  },
  {
   "cell_type": "code",
   "execution_count": 23,
   "id": "7c35758a",
   "metadata": {},
   "outputs": [
    {
     "name": "stdout",
     "output_type": "stream",
     "text": [
      "Energy\n",
      "        Precision   Recall   F1\n",
      "OOD:    0.6219      0.7451   0.6780\n",
      "OMS:    0.7000      0.8133   0.7524\n"
     ]
    }
   ],
   "source": [
    "T = 1\n",
    "\n",
    "monitor_energy = EnergyMonitor(temperature=T)\n",
    "monitor_energy.fit()\n",
    "\n",
    "scores_test_energy = monitor_energy.predict(logits_test)\n",
    "scores_ood_energy = monitor_energy.predict(logits_ood)\n",
    "\n",
    "precision_ood_energy, recall_ood_energy, f1_ood_energy = eval_ood.get_metrics(scores_test_energy, scores_ood_energy)\n",
    "precision_oms_energy, recall_oms_energy, f1_oms_energy = eval_oms.get_metrics(scores_test_energy, scores_ood_energy)\n",
    "\n",
    "print(\"Energy\")\n",
    "print(\"       \", \"Precision \", \" Recall \", \" F1\")\n",
    "print(\"OOD:   \", \"{:.4f}\".format(precision_ood_energy), \"    \", \"{:.4f}\".format(recall_ood_energy), \n",
    "      \" \", \"{:.4f}\".format(f1_ood_energy))\n",
    "print(\"OMS:   \", \"{:.4f}\".format(precision_oms_energy), \"    \", \"{:.4f}\".format(recall_oms_energy), \n",
    "      \" \", \"{:.4f}\".format(f1_oms_energy))"
   ]
  },
  {
   "cell_type": "code",
   "execution_count": null,
   "id": "547534ba",
   "metadata": {},
   "outputs": [],
   "source": []
  },
  {
   "cell_type": "code",
   "execution_count": 24,
   "id": "d2f81a5c",
   "metadata": {},
   "outputs": [
    {
     "name": "stdout",
     "output_type": "stream",
     "text": [
      "ReAct Energy\n",
      "        Precision   Recall   F1\n",
      "OOD:    0.6059      0.7678   0.6773\n",
      "OMS:    0.7028      0.8208   0.7572\n"
     ]
    }
   ],
   "source": [
    "monitor_react = ReActMonitor(quantile_value=0.99)\n",
    "monitor_react.fit(feature_extractor, features_train[-1])\n",
    "\n",
    "scores_test_react = monitor_react.predict(features_test[-1])\n",
    "scores_ood_react = monitor_react.predict(features_ood[-1])\n",
    "\n",
    "precision_ood_react_ene, recall_ood_react_ene, f1_ood_react_ene = eval_ood.get_metrics(scores_test_react, \n",
    "                                                                                       scores_ood_react)\n",
    "precision_oms_react_ene, recall_oms_react_ene, f1_oms_react_ene = eval_oms.get_metrics(scores_test_react, \n",
    "                                                                                       scores_ood_react)\n",
    "\n",
    "print(\"ReAct Energy\")\n",
    "print(\"       \", \"Precision \", \" Recall \", \" F1\")\n",
    "print(\"OOD:   \", \"{:.4f}\".format(precision_ood_react_ene), \"    \", \"{:.4f}\".format(recall_ood_react_ene), \n",
    "      \" \", \"{:.4f}\".format(f1_ood_react_ene))\n",
    "print(\"OMS:   \", \"{:.4f}\".format(precision_oms_react_ene), \"    \", \"{:.4f}\".format(recall_oms_react_ene), \n",
    "      \" \", \"{:.4f}\".format(f1_oms_react_ene))"
   ]
  },
  {
   "cell_type": "code",
   "execution_count": null,
   "id": "a17c402d",
   "metadata": {},
   "outputs": [],
   "source": []
  }
 ],
 "metadata": {
  "kernelspec": {
   "display_name": "Python 3 (ipykernel)",
   "language": "python",
   "name": "python3"
  },
  "language_info": {
   "codemirror_mode": {
    "name": "ipython",
    "version": 3
   },
   "file_extension": ".py",
   "mimetype": "text/x-python",
   "name": "python",
   "nbconvert_exporter": "python",
   "pygments_lexer": "ipython3",
   "version": "3.10.4"
  }
 },
 "nbformat": 4,
 "nbformat_minor": 5
}
